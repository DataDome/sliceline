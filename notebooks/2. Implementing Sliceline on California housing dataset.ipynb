{
 "cells": [
  {
   "cell_type": "markdown",
   "id": "4ed55269",
   "metadata": {},
   "source": [
    "# End-to-end Sliceline application\n",
    "\n",
    "_____________________________\n",
    "This demo notebook is split in 2 parts:\n",
    "\n",
    "- **Machine Learning modelling**\n",
    "\n",
    "This part implements a basic regressor on the [California housing dataset](https://www.openml.org/search?type=data&sort=runs&id=41211&status=active) to predict house values.\n",
    "  \n",
    "- **Model debugging with Sliceline**\n",
    "\n",
    "This part identifies slices where the training error of the model is significantly higher, thanks to [sliceline](https://github.com/DataDome/sliceline).\n",
    "\n",
    "## Machine Learning modelling\n",
    "\n",
    "We used a [HistGradientBoostingRegressor](https://scikit-learn.org/stable/modules/generated/sklearn.ensemble.HistGradientBoostingRegressor.html) with default parameters as regressor. The optimisation metric is the [Root Mean Square Error](https://scikit-learn.org/stable/modules/generated/sklearn.metrics.mean_squared_error.html).\n",
    "\n",
    "No preprocessing or feature engineering is applied in the pipeline. It is not the purpose of this demo notebook.\n",
    "\n",
    "The training error is the element-wise square error."
   ]
  },
  {
   "cell_type": "code",
   "execution_count": 1,
   "id": "2850ff97",
   "metadata": {
    "ExecuteTime": {
     "end_time": "2022-09-01T08:53:38.309704Z",
     "start_time": "2022-09-01T08:53:36.895001Z"
    },
    "execution": {
     "iopub.execute_input": "2022-09-02T10:14:22.748851Z",
     "iopub.status.busy": "2022-09-02T10:14:22.748192Z",
     "iopub.status.idle": "2022-09-02T10:14:24.620317Z",
     "shell.execute_reply": "2022-09-02T10:14:24.619474Z"
    }
   },
   "outputs": [],
   "source": [
    "# import useful modules\n",
    "import pandas as pd\n",
    "import numpy as np\n",
    "from sklearn.datasets import fetch_california_housing\n",
    "from sklearn.ensemble import HistGradientBoostingRegressor\n",
    "\n",
    "pd.set_option(\"display.max_rows\", None, \"display.max_columns\", None)\n",
    "\n",
    "# fetch California housing dataset\n",
    "X, y = fetch_california_housing(as_frame=True, return_X_y=True)\n",
    "\n",
    "# define the model\n",
    "model = HistGradientBoostingRegressor(random_state=42)\n",
    "\n",
    "# training\n",
    "model.fit(X, y)\n",
    "\n",
    "# predict\n",
    "y_pred = model.predict(X)\n",
    "\n",
    "# compute element-wise square error (the lower, the better)\n",
    "training_errors = (y - y_pred)**2"
   ]
  },
  {
   "cell_type": "markdown",
   "id": "a7f4ffe1",
   "metadata": {},
   "source": [
    "## Model debbuging with Sliceline\n",
    "\n",
    "**Sliceline considers all the columns of the input dataset as categorical.**\n",
    "\n",
    "So, to get more relevant slices, features should be discretized.\n",
    "\n",
    "Indeed, columns as-is would lead to poor exploitable results. We would rather have range of values to specific value in our slices definition.\n",
    "\n",
    "To discretize them and compute their bins, we use [OptBinning](http://gnpalencia.org/optbinning/) but feel free to experiment other binning implementations.\n",
    "\n",
    "Sliceline configuration:\n",
    "- `alpha = 0.95`: we are interested in small slice with high log loss.\n",
    "- `k = 1`: we want Sliceline to find the rules with the best score.\n",
    "- `max_l = X_trans.shape[1]`: we want Sliceline to be able to use all of the inputs columns.\n",
    "- `min_sup = 1`: because the input dataset is relatively small, we do not add constraint regarding the minimal support."
   ]
  },
  {
   "cell_type": "code",
   "execution_count": 2,
   "id": "459c72d3",
   "metadata": {
    "ExecuteTime": {
     "end_time": "2022-09-01T08:58:36.911215Z",
     "start_time": "2022-09-01T08:54:26.938009Z"
    },
    "execution": {
     "iopub.execute_input": "2022-09-02T10:14:24.625327Z",
     "iopub.status.busy": "2022-09-02T10:14:24.624806Z",
     "iopub.status.idle": "2022-09-02T10:19:03.233452Z",
     "shell.execute_reply": "2022-09-02T10:19:03.230071Z"
    }
   },
   "outputs": [
    {
     "name": "stderr",
     "output_type": "stream",
     "text": [
      "DEBUG:sliceline.slicefinder:Dropping 0/40 features below min_sup = 1.\n",
      "DEBUG:sliceline.slicefinder:Initial top-K: count=1, max=0.657496, min=0.657496\n",
      "DEBUG:sliceline.slicefinder:Level 2:\n",
      "DEBUG:sliceline.slicefinder: -- generated paired slice candidates: 40 -> 700\n",
      "/Users/antoinededaran/Documents/internal-sliceline/sliceline/slicefinder.py:332: RuntimeWarning: invalid value encountered in divide\n",
      "  (slice_errors / slice_sizes) / self.average_error_ - 1\n",
      "/Users/antoinededaran/Documents/internal-sliceline/sliceline/slicefinder.py:333: RuntimeWarning: divide by zero encountered in divide\n",
      "  ) - (1 - self.alpha) * (n_row_x_encoded / slice_sizes - 1)\n",
      "DEBUG:sliceline.slicefinder: -- valid slices after eval: 692/700\n",
      "DEBUG:sliceline.slicefinder: -- top-K: count=1, max=0.657496, min=0.657496\n",
      "DEBUG:sliceline.slicefinder:Level 3:\n",
      "DEBUG:sliceline.slicefinder: -- generated paired slice candidates: 700 -> 6590\n",
      "DEBUG:sliceline.slicefinder: -- valid slices after eval: 6468/6590\n",
      "DEBUG:sliceline.slicefinder: -- top-K: count=1, max=0.657496, min=0.657496\n",
      "DEBUG:sliceline.slicefinder:Level 4:\n",
      "DEBUG:sliceline.slicefinder: -- generated paired slice candidates: 6590 -> 26328\n",
      "DEBUG:sliceline.slicefinder: -- valid slices after eval: 24429/26328\n",
      "DEBUG:sliceline.slicefinder: -- top-K: count=1, max=0.657496, min=0.657496\n",
      "DEBUG:sliceline.slicefinder:Level 5:\n",
      "DEBUG:sliceline.slicefinder: -- generated paired slice candidates: 26328 -> 37712\n",
      "DEBUG:sliceline.slicefinder: -- valid slices after eval: 35863/37712\n",
      "DEBUG:sliceline.slicefinder: -- top-K: count=1, max=0.657496, min=0.657496\n",
      "DEBUG:sliceline.slicefinder:Level 6:\n",
      "DEBUG:sliceline.slicefinder: -- generated paired slice candidates: 37712 -> 24242\n",
      "DEBUG:sliceline.slicefinder: -- valid slices after eval: 23833/24242\n",
      "DEBUG:sliceline.slicefinder: -- top-K: count=1, max=0.657496, min=0.657496\n",
      "DEBUG:sliceline.slicefinder:Level 7:\n",
      "DEBUG:sliceline.slicefinder: -- generated paired slice candidates: 24242 -> 7727\n",
      "DEBUG:sliceline.slicefinder: -- valid slices after eval: 7695/7727\n",
      "DEBUG:sliceline.slicefinder: -- top-K: count=1, max=0.657496, min=0.657496\n",
      "DEBUG:sliceline.slicefinder:Level 8:\n",
      "DEBUG:sliceline.slicefinder: -- generated paired slice candidates: 7727 -> 1018\n",
      "DEBUG:sliceline.slicefinder: -- valid slices after eval: 1018/1018\n",
      "DEBUG:sliceline.slicefinder: -- top-K: count=1, max=0.657496, min=0.657496\n",
      "DEBUG:sliceline.slicefinder:Terminated at level 8.\n"
     ]
    },
    {
     "data": {
      "text/html": [
       "<style>#sk-container-id-1 {color: black;background-color: white;}#sk-container-id-1 pre{padding: 0;}#sk-container-id-1 div.sk-toggleable {background-color: white;}#sk-container-id-1 label.sk-toggleable__label {cursor: pointer;display: block;width: 100%;margin-bottom: 0;padding: 0.3em;box-sizing: border-box;text-align: center;}#sk-container-id-1 label.sk-toggleable__label-arrow:before {content: \"▸\";float: left;margin-right: 0.25em;color: #696969;}#sk-container-id-1 label.sk-toggleable__label-arrow:hover:before {color: black;}#sk-container-id-1 div.sk-estimator:hover label.sk-toggleable__label-arrow:before {color: black;}#sk-container-id-1 div.sk-toggleable__content {max-height: 0;max-width: 0;overflow: hidden;text-align: left;background-color: #f0f8ff;}#sk-container-id-1 div.sk-toggleable__content pre {margin: 0.2em;color: black;border-radius: 0.25em;background-color: #f0f8ff;}#sk-container-id-1 input.sk-toggleable__control:checked~div.sk-toggleable__content {max-height: 200px;max-width: 100%;overflow: auto;}#sk-container-id-1 input.sk-toggleable__control:checked~label.sk-toggleable__label-arrow:before {content: \"▾\";}#sk-container-id-1 div.sk-estimator input.sk-toggleable__control:checked~label.sk-toggleable__label {background-color: #d4ebff;}#sk-container-id-1 div.sk-label input.sk-toggleable__control:checked~label.sk-toggleable__label {background-color: #d4ebff;}#sk-container-id-1 input.sk-hidden--visually {border: 0;clip: rect(1px 1px 1px 1px);clip: rect(1px, 1px, 1px, 1px);height: 1px;margin: -1px;overflow: hidden;padding: 0;position: absolute;width: 1px;}#sk-container-id-1 div.sk-estimator {font-family: monospace;background-color: #f0f8ff;border: 1px dotted black;border-radius: 0.25em;box-sizing: border-box;margin-bottom: 0.5em;}#sk-container-id-1 div.sk-estimator:hover {background-color: #d4ebff;}#sk-container-id-1 div.sk-parallel-item::after {content: \"\";width: 100%;border-bottom: 1px solid gray;flex-grow: 1;}#sk-container-id-1 div.sk-label:hover label.sk-toggleable__label {background-color: #d4ebff;}#sk-container-id-1 div.sk-serial::before {content: \"\";position: absolute;border-left: 1px solid gray;box-sizing: border-box;top: 0;bottom: 0;left: 50%;z-index: 0;}#sk-container-id-1 div.sk-serial {display: flex;flex-direction: column;align-items: center;background-color: white;padding-right: 0.2em;padding-left: 0.2em;position: relative;}#sk-container-id-1 div.sk-item {position: relative;z-index: 1;}#sk-container-id-1 div.sk-parallel {display: flex;align-items: stretch;justify-content: center;background-color: white;position: relative;}#sk-container-id-1 div.sk-item::before, #sk-container-id-1 div.sk-parallel-item::before {content: \"\";position: absolute;border-left: 1px solid gray;box-sizing: border-box;top: 0;bottom: 0;left: 50%;z-index: -1;}#sk-container-id-1 div.sk-parallel-item {display: flex;flex-direction: column;z-index: 1;position: relative;background-color: white;}#sk-container-id-1 div.sk-parallel-item:first-child::after {align-self: flex-end;width: 50%;}#sk-container-id-1 div.sk-parallel-item:last-child::after {align-self: flex-start;width: 50%;}#sk-container-id-1 div.sk-parallel-item:only-child::after {width: 0;}#sk-container-id-1 div.sk-dashed-wrapped {border: 1px dashed gray;margin: 0 0.4em 0.5em 0.4em;box-sizing: border-box;padding-bottom: 0.4em;background-color: white;}#sk-container-id-1 div.sk-label label {font-family: monospace;font-weight: bold;display: inline-block;line-height: 1.2em;}#sk-container-id-1 div.sk-label-container {text-align: center;}#sk-container-id-1 div.sk-container {/* jupyter's `normalize.less` sets `[hidden] { display: none; }` but bootstrap.min.css set `[hidden] { display: none !important; }` so we also need the `!important` here to be able to override the default hidden behavior on the sphinx rendered scikit-learn.org. See: https://github.com/scikit-learn/scikit-learn/issues/21755 */display: inline-block !important;position: relative;}#sk-container-id-1 div.sk-text-repr-fallback {display: none;}</style><div id=\"sk-container-id-1\" class=\"sk-top-container\"><div class=\"sk-text-repr-fallback\"><pre>Slicefinder(alpha=0.95, max_l=8, min_sup=1)</pre><b>In a Jupyter environment, please rerun this cell to show the HTML representation or trust the notebook. <br />On GitHub, the HTML representation is unable to render, please try loading this page with nbviewer.org.</b></div><div class=\"sk-container\" hidden><div class=\"sk-item\"><div class=\"sk-estimator sk-toggleable\"><input class=\"sk-toggleable__control sk-hidden--visually\" id=\"sk-estimator-id-1\" type=\"checkbox\" checked><label for=\"sk-estimator-id-1\" class=\"sk-toggleable__label sk-toggleable__label-arrow\">Slicefinder</label><div class=\"sk-toggleable__content\"><pre>Slicefinder(alpha=0.95, max_l=8, min_sup=1)</pre></div></div></div></div></div>"
      ],
      "text/plain": [
       "Slicefinder(alpha=0.95, max_l=8, min_sup=1)"
      ]
     },
     "execution_count": 2,
     "metadata": {},
     "output_type": "execute_result"
    }
   ],
   "source": [
    "# import sliceline and binning class\n",
    "from sliceline.slicefinder import Slicefinder\n",
    "from optbinning import ContinuousOptimalBinning\n",
    "\n",
    "# Columns have to be bined\n",
    "optimal_binner = ContinuousOptimalBinning(max_n_bins=5)\n",
    "\n",
    "X_trans = pd.DataFrame(np.array(\n",
    "    [\n",
    "        optimal_binner.fit_transform(X[col], training_errors, metric=\"bins\") for col in X.columns\n",
    "    ]\n",
    ").T, columns=X.columns)\n",
    "\n",
    "# fitting sliceline\n",
    "sf = Slicefinder(\n",
    "    alpha = 0.95,\n",
    "    k = 1,\n",
    "    max_l = X_trans.shape[1],\n",
    "    min_sup = 1,\n",
    "    verbose = True\n",
    ")\n",
    "\n",
    "sf.fit(X_trans, training_errors)"
   ]
  },
  {
   "cell_type": "code",
   "execution_count": 3,
   "id": "0e08e0fc",
   "metadata": {
    "ExecuteTime": {
     "end_time": "2022-09-01T08:58:54.358814Z",
     "start_time": "2022-09-01T08:58:54.322244Z"
    },
    "execution": {
     "iopub.execute_input": "2022-09-02T10:19:03.310804Z",
     "iopub.status.busy": "2022-09-02T10:19:03.301587Z",
     "iopub.status.idle": "2022-09-02T10:19:03.360466Z",
     "shell.execute_reply": "2022-09-02T10:19:03.359488Z"
    }
   },
   "outputs": [
    {
     "data": {
      "text/html": [
       "<div>\n",
       "<style scoped>\n",
       "    .dataframe tbody tr th:only-of-type {\n",
       "        vertical-align: middle;\n",
       "    }\n",
       "\n",
       "    .dataframe tbody tr th {\n",
       "        vertical-align: top;\n",
       "    }\n",
       "\n",
       "    .dataframe thead th {\n",
       "        text-align: right;\n",
       "    }\n",
       "</style>\n",
       "<table border=\"1\" class=\"dataframe\">\n",
       "  <thead>\n",
       "    <tr style=\"text-align: right;\">\n",
       "      <th></th>\n",
       "      <th>MedInc</th>\n",
       "      <th>HouseAge</th>\n",
       "      <th>AveRooms</th>\n",
       "      <th>AveBedrms</th>\n",
       "      <th>Population</th>\n",
       "      <th>AveOccup</th>\n",
       "      <th>Latitude</th>\n",
       "      <th>Longitude</th>\n",
       "    </tr>\n",
       "  </thead>\n",
       "  <tbody>\n",
       "    <tr>\n",
       "      <th>slice_0</th>\n",
       "      <td>None</td>\n",
       "      <td>None</td>\n",
       "      <td>None</td>\n",
       "      <td>None</td>\n",
       "      <td>None</td>\n",
       "      <td>(-inf, 2.02)</td>\n",
       "      <td>None</td>\n",
       "      <td>None</td>\n",
       "    </tr>\n",
       "  </tbody>\n",
       "</table>\n",
       "</div>"
      ],
      "text/plain": [
       "        MedInc HouseAge AveRooms AveBedrms Population      AveOccup Latitude  \\\n",
       "slice_0   None     None     None      None       None  (-inf, 2.02)     None   \n",
       "\n",
       "        Longitude  \n",
       "slice_0      None  "
      ]
     },
     "execution_count": 3,
     "metadata": {},
     "output_type": "execute_result"
    }
   ],
   "source": [
    "# slices found\n",
    "pd.DataFrame(sf.top_slices_, columns=sf.feature_names_in_, index=sf.get_feature_names_out())"
   ]
  },
  {
   "cell_type": "markdown",
   "id": "2be72623",
   "metadata": {},
   "source": [
    "**Note:**\n",
    "\n",
    "We found 1 slices with `k` set to 1.\n",
    "\n",
    "_(`None` values refer to unused features in each slices.)_"
   ]
  },
  {
   "cell_type": "code",
   "execution_count": 4,
   "id": "7b8e3ea1",
   "metadata": {
    "ExecuteTime": {
     "end_time": "2022-09-01T08:59:12.024448Z",
     "start_time": "2022-09-01T08:59:11.627429Z"
    },
    "execution": {
     "iopub.execute_input": "2022-09-02T10:19:03.366548Z",
     "iopub.status.busy": "2022-09-02T10:19:03.366135Z",
     "iopub.status.idle": "2022-09-02T10:19:03.797418Z",
     "shell.execute_reply": "2022-09-02T10:19:03.796534Z"
    }
   },
   "outputs": [
    {
     "name": "stdout",
     "output_type": "stream",
     "text": [
      "Model RMSE on:\n",
      "- the full dataset (20640 houses): 0.1641313869461246\n",
      "- the selected slice (1756 houses): 0.3706251665488993\n"
     ]
    }
   ],
   "source": [
    "from sklearn.metrics import mean_squared_error as rmse\n",
    "\n",
    "# select one slice\n",
    "slice_index = 0\n",
    "current_slice = sf.top_slices_[slice_index]\n",
    "\n",
    "# create a pandas filter\n",
    "predicate_conditions = [X_trans[feature_name] == feature_value for feature_name, feature_value in zip(\n",
    "    sf.feature_names_in_, current_slice) if feature_value is not None]\n",
    "condition = \" & \".join(\n",
    "    [f\"@predicate_conditions[{i}]\" for i in range(len(predicate_conditions))]\n",
    ")\n",
    "\n",
    "# get slice element indices\n",
    "indices = X_trans.query(condition).index\n",
    "\n",
    "print(\"Model RMSE on:\")\n",
    "print(f\"- the full dataset ({X.shape[0]} houses):\", rmse(y, y_pred))\n",
    "print(f\"- the selected slice ({len(indices)} houses):\", rmse(y.iloc[indices], y_pred[indices]))"
   ]
  },
  {
   "cell_type": "markdown",
   "id": "812765cd",
   "metadata": {},
   "source": [
    "# Conclusion\n",
    "\n",
    "With Sliceline, we identified a subset of 1756 houses on which the model performs significantly worse. Those houses:\n",
    "- count 2 or less average number of household members (`AveOccup='(-inf, 2.02)'`).\n",
    "\n",
    "To improve the modelisation, we should focus on reducing the error on those houses."
   ]
  },
  {
   "cell_type": "code",
   "execution_count": null,
   "id": "601b200d",
   "metadata": {},
   "outputs": [],
   "source": []
  }
 ],
 "metadata": {
  "kernelspec": {
   "display_name": "Python 3 (ipykernel)",
   "language": "python",
   "name": "python3"
  },
  "language_info": {
   "codemirror_mode": {
    "name": "ipython",
    "version": 3
   },
   "file_extension": ".py",
   "mimetype": "text/x-python",
   "name": "python",
   "nbconvert_exporter": "python",
   "pygments_lexer": "ipython3",
   "version": "3.9.13"
  },
  "toc": {
   "base_numbering": 1,
   "nav_menu": {},
   "number_sections": true,
   "sideBar": true,
   "skip_h1_title": false,
   "title_cell": "Table of Contents",
   "title_sidebar": "Contents",
   "toc_cell": false,
   "toc_position": {},
   "toc_section_display": true,
   "toc_window_display": false
  },
  "varInspector": {
   "cols": {
    "lenName": 16,
    "lenType": 16,
    "lenVar": 40
   },
   "kernels_config": {
    "python": {
     "delete_cmd_postfix": "",
     "delete_cmd_prefix": "del ",
     "library": "var_list.py",
     "varRefreshCmd": "print(var_dic_list())"
    },
    "r": {
     "delete_cmd_postfix": ") ",
     "delete_cmd_prefix": "rm(",
     "library": "var_list.r",
     "varRefreshCmd": "cat(var_dic_list()) "
    }
   },
   "types_to_exclude": [
    "module",
    "function",
    "builtin_function_or_method",
    "instance",
    "_Feature"
   ],
   "window_display": false
  }
 },
 "nbformat": 4,
 "nbformat_minor": 5
}
